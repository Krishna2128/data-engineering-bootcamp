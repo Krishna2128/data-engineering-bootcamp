{
 "cells": [
  {
   "cell_type": "markdown",
   "metadata": {
    "application/vnd.databricks.v1+cell": {
     "cellMetadata": {},
     "inputWidgets": {},
     "nuid": "245aa495-5c7d-4ba9-a17e-8527b41fad0f",
     "showTitle": false,
     "tableResultSettingsMap": {},
     "title": ""
    }
   },
   "source": [
    " **class 7 Query Optimisation**"
   ]
  },
  {
   "cell_type": "markdown",
   "metadata": {
    "application/vnd.databricks.v1+cell": {
     "cellMetadata": {},
     "inputWidgets": {},
     "nuid": "e62004e1-30f1-425d-8616-550cd23c8e55",
     "showTitle": false,
     "tableResultSettingsMap": {},
     "title": ""
    }
   },
   "source": [
    "🛠️ 1️⃣ SELECT * vs SELECT needed columns"
   ]
  },
  {
   "cell_type": "code",
   "execution_count": 0,
   "metadata": {
    "application/vnd.databricks.v1+cell": {
     "cellMetadata": {
      "byteLimit": 2048000,
      "rowLimit": 10000
     },
     "inputWidgets": {},
     "nuid": "6a5eef9c-db91-4a19-aea8-823a26549061",
     "showTitle": false,
     "tableResultSettingsMap": {},
     "title": ""
    }
   },
   "outputs": [],
   "source": [
    "--Badly Optimise Queary \n",
    "select * \n",
    "from customers c\n",
    "join orders o on c.customer_id = o.customer_id\n",
    "join order_details od on o.order_id = od.order_id;"
   ]
  },
  {
   "cell_type": "code",
   "execution_count": 0,
   "metadata": {
    "application/vnd.databricks.v1+cell": {
     "cellMetadata": {
      "byteLimit": 2048000,
      "rowLimit": 10000
     },
     "inputWidgets": {},
     "nuid": "e195dc7a-0eb9-428a-8f4c-4c9717828be3",
     "showTitle": false,
     "tableResultSettingsMap": {},
     "title": ""
    }
   },
   "outputs": [],
   "source": [
    "-- Optimised queary\n",
    "select c.first_name,o.order_id, od.product_name, od.price_each\n",
    "from customers c\n",
    "join orders o on c.customer_id = o.customer_id\n",
    "join order_details od on o.order_id = od.order_id;"
   ]
  },
  {
   "cell_type": "markdown",
   "metadata": {
    "application/vnd.databricks.v1+cell": {
     "cellMetadata": {},
     "inputWidgets": {},
     "nuid": "5ef98a2e-0596-4080-adb1-aabd71512031",
     "showTitle": false,
     "tableResultSettingsMap": {},
     "title": ""
    }
   },
   "source": [
    "🔍 2️⃣ Filtering after JOIN vs Filtering before"
   ]
  },
  {
   "cell_type": "code",
   "execution_count": 0,
   "metadata": {
    "application/vnd.databricks.v1+cell": {
     "cellMetadata": {
      "byteLimit": 2048000,
      "rowLimit": 10000
     },
     "inputWidgets": {},
     "nuid": "1a9d3338-d353-4a59-9fa2-e85ef40c21c3",
     "showTitle": false,
     "tableResultSettingsMap": {},
     "title": ""
    }
   },
   "outputs": [],
   "source": [
    "--❌ Unoptimized:\n",
    "\n",
    "select c.first_name, od.product_name, od.price_each\n",
    "from customers c\n",
    "join orders o on c.customer_id = o.customer_id\n",
    "join order_details od on o.order_id = od.order_id\n",
    "order by od.price_each desc;\n"
   ]
  },
  {
   "cell_type": "code",
   "execution_count": 0,
   "metadata": {
    "application/vnd.databricks.v1+cell": {
     "cellMetadata": {
      "byteLimit": 2048000,
      "rowLimit": 10000
     },
     "inputWidgets": {},
     "nuid": "ae0e7500-47d1-42dd-9c40-09f687fe5e65",
     "showTitle": false,
     "tableResultSettingsMap": {},
     "title": ""
    }
   },
   "outputs": [],
   "source": [
    "--Optimized:\n",
    "select c.first_name, od.product_name, od.price_each\n",
    "from customers c\n",
    "join orders o on c.customer_id = o.customer_id\n",
    "join order_details od on o.order_id = od.order_id\n",
    "where od.price_each > 1000\n",
    "order by od.price_each desc;"
   ]
  },
  {
   "cell_type": "markdown",
   "metadata": {
    "application/vnd.databricks.v1+cell": {
     "cellMetadata": {},
     "inputWidgets": {},
     "nuid": "0d87b3c7-1681-41bf-9771-22a2e77bc3ba",
     "showTitle": false,
     "tableResultSettingsMap": {},
     "title": ""
    }
   },
   "source": [
    "3️⃣ GROUP BY without filtering vs with early filtering"
   ]
  },
  {
   "cell_type": "code",
   "execution_count": 0,
   "metadata": {
    "application/vnd.databricks.v1+cell": {
     "cellMetadata": {
      "byteLimit": 2048000,
      "rowLimit": 10000
     },
     "inputWidgets": {},
     "nuid": "12f23a5a-26d5-4519-9587-d881fedd34d4",
     "showTitle": false,
     "tableResultSettingsMap": {},
     "title": ""
    }
   },
   "outputs": [],
   "source": [
    "--Unoptmised query\n",
    "SELECT c.customer_id, SUM(od.price_each * od.quantity) AS total_spent\n",
    "FROM customers c\n",
    "JOIN orders o ON c.customer_id = o.customer_id\n",
    "JOIN order_details od ON o.order_id = od.order_id\n",
    "GROUP BY c.customer_id;"
   ]
  },
  {
   "cell_type": "code",
   "execution_count": 0,
   "metadata": {
    "application/vnd.databricks.v1+cell": {
     "cellMetadata": {
      "byteLimit": 2048000,
      "rowLimit": 10000
     },
     "inputWidgets": {},
     "nuid": "6e7f07b5-f7f4-4160-b486-3e01b0abc62f",
     "showTitle": false,
     "tableResultSettingsMap": {},
     "title": ""
    }
   },
   "outputs": [],
   "source": [
    "-- ✅ Optimized:\n",
    "\n",
    "SELECT c.customer_id, SUM(od.price_each * od.quantity) AS total_spent\n",
    "FROM customers c\n",
    "JOIN orders o ON c.customer_id = o.customer_id\n",
    "JOIN order_details od ON o.order_id = od.order_id\n",
    "WHERE o.order_date >= '2023-01-01'\n",
    "GROUP BY c.customer_id;"
   ]
  },
  {
   "cell_type": "code",
   "execution_count": 0,
   "metadata": {
    "application/vnd.databricks.v1+cell": {
     "cellMetadata": {
      "byteLimit": 2048000,
      "rowLimit": 10000
     },
     "inputWidgets": {},
     "nuid": "5177b000-d7d6-4aa8-bd5f-72d51be226a2",
     "showTitle": false,
     "tableResultSettingsMap": {},
     "title": ""
    }
   },
   "outputs": [],
   "source": [
    "EXPLAIN\n",
    "SELECT c.first_name, o.order_id, od.product_name\n",
    "FROM customers c\n",
    "JOIN orders o ON c.customer_id = o.customer_id\n",
    "JOIN order_details od ON o.order_id = od.order_id\n",
    "WHERE od.price_each > 1000;"
   ]
  },
  {
   "cell_type": "code",
   "execution_count": 0,
   "metadata": {
    "application/vnd.databricks.v1+cell": {
     "cellMetadata": {
      "byteLimit": 2048000,
      "rowLimit": 10000
     },
     "inputWidgets": {},
     "nuid": "f108d750-8301-4bbd-b9fb-5cf6a40da479",
     "showTitle": false,
     "tableResultSettingsMap": {},
     "title": ""
    }
   },
   "outputs": [],
   "source": [
    "SELECT * \n",
    "FROM order_details\n",
    "WHERE price_each > 10000;"
   ]
  },
  {
   "cell_type": "code",
   "execution_count": 0,
   "metadata": {
    "application/vnd.databricks.v1+cell": {
     "cellMetadata": {
      "byteLimit": 2048000,
      "rowLimit": 10000
     },
     "inputWidgets": {},
     "nuid": "82102b82-ce74-4186-ae1d-fc919ca15ab6",
     "showTitle": false,
     "tableResultSettingsMap": {},
     "title": ""
    }
   },
   "outputs": [],
   "source": [
    "-- Add index first\n",
    "CREATE INDEX idx_price ON order_details(price_each);\n",
    "\n",
    "-- Then rerun\n",
    "SELECT * \n",
    "FROM order_details\n",
    "WHERE price_each > 10000;"
   ]
  },
  {
   "cell_type": "code",
   "execution_count": 0,
   "metadata": {
    "application/vnd.databricks.v1+cell": {
     "cellMetadata": {
      "byteLimit": 2048000,
      "rowLimit": 10000
     },
     "inputWidgets": {},
     "nuid": "b96d4b52-e4a5-4c03-b3a8-77d059bdd1bb",
     "showTitle": false,
     "tableResultSettingsMap": {},
     "title": ""
    }
   },
   "outputs": [],
   "source": [
    "create table employee_sales (\n",
    "emp_id string,\n",
    "emp_name varchar(50),\n",
    "sale_amount int,\n",
    "dept varchar(50),\n",
    "sale_date date\n",
    ");\n"
   ]
  },
  {
   "cell_type": "code",
   "execution_count": 0,
   "metadata": {
    "application/vnd.databricks.v1+cell": {
     "cellMetadata": {
      "byteLimit": 2048000,
      "rowLimit": 10000
     },
     "inputWidgets": {},
     "nuid": "13b2fa6f-4148-40e1-8f0d-ff0fd575fafe",
     "showTitle": false,
     "tableResultSettingsMap": {},
     "title": ""
    }
   },
   "outputs": [],
   "source": [
    "\n"
   ]
  },
  {
   "cell_type": "code",
   "execution_count": 0,
   "metadata": {
    "application/vnd.databricks.v1+cell": {
     "cellMetadata": {
      "byteLimit": 2048000,
      "rowLimit": 10000
     },
     "inputWidgets": {},
     "nuid": "075b5960-6cb3-4cd2-ad78-afb763031d7c",
     "showTitle": false,
     "tableResultSettingsMap": {},
     "title": ""
    }
   },
   "outputs": [],
   "source": [
    "INSERT INTO employee_sales VALUES \n",
    "('E101', 'Ankit', 5000, 'Fashion', '2023-10-01'),\n",
    "('E102', 'Priya', 8000, 'Fashion', '2023-10-01'),\n",
    "('E103', 'Ravi', 7000, 'Electronics', '2023-10-02'),\n",
    "('E101', 'Ankit', 6000, 'Fashion', '2023-10-03');\n",
    "\n"
   ]
  },
  {
   "cell_type": "code",
   "execution_count": 0,
   "metadata": {
    "application/vnd.databricks.v1+cell": {
     "cellMetadata": {
      "byteLimit": 2048000,
      "rowLimit": 10000
     },
     "inputWidgets": {},
     "nuid": "5f7c1d24-11ae-44a6-aedb-281d7aed8f8e",
     "showTitle": false,
     "tableResultSettingsMap": {},
     "title": ""
    }
   },
   "outputs": [],
   "source": [
    "select * from employee_sales"
   ]
  },
  {
   "cell_type": "code",
   "execution_count": 0,
   "metadata": {
    "application/vnd.databricks.v1+cell": {
     "cellMetadata": {
      "byteLimit": 2048000,
      "rowLimit": 10000
     },
     "inputWidgets": {},
     "nuid": "4fdc415d-25ce-49eb-87b0-28088615f59e",
     "showTitle": false,
     "tableResultSettingsMap": {},
     "title": ""
    }
   },
   "outputs": [],
   "source": [
    "-- task 1\n",
    "--1. Use a window function to assign a rank of employees by sale_amount within each department\n",
    "\n",
    "SELECT \n",
    "  emp_name, \n",
    "  sale_amount, \n",
    "  dept,\n",
    "  RANK() OVER (PARTITION BY dept ORDER BY sale_amount DESC) AS sales_rank\n",
    "FROM employee_sales;\n",
    "\n"
   ]
  },
  {
   "cell_type": "code",
   "execution_count": 0,
   "metadata": {
    "application/vnd.databricks.v1+cell": {
     "cellMetadata": {
      "byteLimit": 2048000,
      "rowLimit": 10000
     },
     "inputWidgets": {},
     "nuid": "58cf15f6-93dd-47fc-9ef0-e0a37ee0a2b7",
     "showTitle": false,
     "tableResultSettingsMap": {},
     "title": ""
    }
   },
   "outputs": [],
   "source": [
    "--task 2\n",
    "--Find the running total of sales for eachemployee\n",
    "\n",
    "select emp_id,emp_name,sale_amount,sum(sale_amount)\n",
    "over( order by sale_amount) as running_total\n",
    "from employee_sales\n"
   ]
  },
  {
   "cell_type": "code",
   "execution_count": 0,
   "metadata": {
    "application/vnd.databricks.v1+cell": {
     "cellMetadata": {
      "byteLimit": 2048000,
      "rowLimit": 10000
     },
     "inputWidgets": {},
     "nuid": "a6d886ec-b1b0-4526-ba3b-f254c406245a",
     "showTitle": false,
     "tableResultSettingsMap": {},
     "title": ""
    }
   },
   "outputs": [],
   "source": [
    "--task3\n",
    "--optimize query by selecting only necessary columns and applying filters before aggregation \n",
    "\n",
    "select emp_name,dept ,sum(sale_amount) as total_sales\n",
    "from employee_sales\n",
    "where dept = 'Fashion'\n",
    "group by emp_name,dept"
   ]
  },
  {
   "cell_type": "code",
   "execution_count": 0,
   "metadata": {
    "application/vnd.databricks.v1+cell": {
     "cellMetadata": {},
     "inputWidgets": {},
     "nuid": "0c65ab7e-3608-4825-a3ec-5a8ac6a9cae0",
     "showTitle": false,
     "tableResultSettingsMap": {},
     "title": ""
    }
   },
   "outputs": [],
   "source": [
    "--task4\n",
    "--explain how indexing would help if this table had 10 million rows"
   ]
  }
 ],
 "metadata": {
  "application/vnd.databricks.v1+notebook": {
   "computePreferences": null,
   "dashboards": [],
   "environmentMetadata": {
    "base_environment": "",
    "environment_version": "2"
   },
   "inputWidgetPreferences": null,
   "language": "sql",
   "notebookMetadata": {
    "pythonIndentUnit": 4
   },
   "notebookName": "Class 6",
   "widgets": {}
  },
  "language_info": {
   "name": "sql"
  }
 },
 "nbformat": 4,
 "nbformat_minor": 0
}
