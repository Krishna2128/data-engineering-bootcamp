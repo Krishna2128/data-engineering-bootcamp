{
 "cells": [
  {
   "cell_type": "code",
   "execution_count": 0,
   "metadata": {
    "application/vnd.databricks.v1+cell": {
     "cellMetadata": {
      "byteLimit": 2048000,
      "implicitDf": true,
      "rowLimit": 10000
     },
     "collapsed": true,
     "inputWidgets": {},
     "nuid": "b8b5bdf3-3ada-41ce-882d-38a89d32a6d8",
     "showTitle": false,
     "tableResultSettingsMap": {},
     "title": ""
    }
   },
   "outputs": [],
   "source": [
    "%sql\n",
    "-- Find customers who placed ordres above the average order amount.\n",
    "\n",
    "SELECT DISTINCT c.first_name , c.last_name\n",
    "FROM customers c \n",
    "INNER JOIN orders o \n",
    "ON c.customer_id = o.customer_id\n",
    "WHERE o.total_amount >\n",
    "(\n",
    "SELECT AVG(total_amount) FROM orders\n",
    ")\n",
    "  limit 5\n",
    "\n",
    "\n"
   ]
  },
  {
   "cell_type": "code",
   "execution_count": 0,
   "metadata": {
    "application/vnd.databricks.v1+cell": {
     "cellMetadata": {
      "byteLimit": 2048000,
      "implicitDf": true,
      "rowLimit": 10000
     },
     "collapsed": true,
     "inputWidgets": {},
     "nuid": "b98e405d-6091-498a-9ee4-2712f4506dc2",
     "showTitle": false,
     "tableResultSettingsMap": {},
     "title": ""
    }
   },
   "outputs": [],
   "source": [
    "%sql\n",
    "SELECT DISTINCT c.first_name, c.last_name, o.total_amount\n",
    "FROM customers c \n",
    "INNER JOIN orders o \n",
    "ON c.customer_id = o.customer_id\n",
    "WHERE o.total_amount > (\n",
    "    SELECT AVG(total_amount) FROM orders\n",
    ")\n",
    "  limit 5\n"
   ]
  },
  {
   "cell_type": "code",
   "execution_count": 0,
   "metadata": {
    "application/vnd.databricks.v1+cell": {
     "cellMetadata": {
      "byteLimit": 2048000,
      "implicitDf": true,
      "rowLimit": 10000
     },
     "inputWidgets": {},
     "nuid": "6b2ab584-e19f-48dc-a83a-bc211d13c14e",
     "showTitle": false,
     "tableResultSettingsMap": {},
     "title": ""
    }
   },
   "outputs": [],
   "source": [
    "%sql\n",
    "-- List all products that have been sold more than 5 times in total.\n",
    "\n",
    "SELECT \n",
    "  od.product_name AS PRODUCT_NAME,\n",
    "  SUM(od.quantity) AS TOTAL_SOLD\n",
    "FROM order_details od \n",
    "GROUP BY od.product_name\n",
    "HAVING SUM(od.quantity) > 2"
   ]
  },
  {
   "cell_type": "code",
   "execution_count": 0,
   "metadata": {
    "application/vnd.databricks.v1+cell": {
     "cellMetadata": {
      "byteLimit": 2048000,
      "implicitDf": true,
      "rowLimit": 10000
     },
     "inputWidgets": {},
     "nuid": "2902e263-82dc-471b-adca-2c246a5808cf",
     "showTitle": false,
     "tableResultSettingsMap": {},
     "title": ""
    }
   },
   "outputs": [],
   "source": [
    "%sql\n",
    "--  List customers and their total quantity of products ordered.\n",
    "WITH customer_orders AS(\n",
    "  SELECT c.customer_id,c.first_name, SUM(od.quantity) AS total_quantity\n",
    "  FROM customers c\n",
    "  INNER JOIN orders o ON c.customer_id = o.customer_id\n",
    "  INNER JOIN order_details od ON o.order_id = od.order_id\n",
    "  GROUP BY c.customer_id,c.first_name\n",
    ")\n",
    "SELECT * FROM customer_orders where total_quantity >= 2;"
   ]
  },
  {
   "cell_type": "code",
   "execution_count": 0,
   "metadata": {
    "application/vnd.databricks.v1+cell": {
     "cellMetadata": {
      "byteLimit": 2048000,
      "implicitDf": true,
      "rowLimit": 10000
     },
     "inputWidgets": {},
     "nuid": "64e89781-1f2b-4b08-a7c9-59201ce85ef9",
     "showTitle": false,
     "tableResultSettingsMap": {},
     "title": ""
    }
   },
   "outputs": [],
   "source": [
    "%sql\n",
    "-- Find products whose total sales revenue is more than ₹10,000.\n",
    "WITH product_sales AS (\n",
    "  SELECT \n",
    "    od.product_name,\n",
    "    SUM(od.price_each * od.quantity) AS total_revenue\n",
    "  FROM order_details od\n",
    "  GROUP BY od.product_name\n",
    ")\n",
    "\n",
    "SELECT * FROM product_sales WHERE total_revenue > 10000"
   ]
  },
  {
   "cell_type": "code",
   "execution_count": 0,
   "metadata": {
    "application/vnd.databricks.v1+cell": {
     "cellMetadata": {
      "byteLimit": 2048000,
      "implicitDf": true,
      "rowLimit": 10000
     },
     "inputWidgets": {},
     "nuid": "d6542803-38b0-4a9b-b797-28cc617483a4",
     "showTitle": false,
     "tableResultSettingsMap": {},
     "title": ""
    }
   },
   "outputs": [],
   "source": [
    "%sql\n",
    "DESCRIBE order_details;"
   ]
  },
  {
   "cell_type": "code",
   "execution_count": 0,
   "metadata": {
    "application/vnd.databricks.v1+cell": {
     "cellMetadata": {
      "byteLimit": 2048000,
      "implicitDf": true,
      "rowLimit": 10000
     },
     "inputWidgets": {},
     "nuid": "ee498790-802d-4a7f-b882-43e97b895509",
     "showTitle": false,
     "tableResultSettingsMap": {},
     "title": ""
    }
   },
   "outputs": [],
   "source": [
    "%sql\n",
    "select * from order_details limit 5;"
   ]
  },
  {
   "cell_type": "code",
   "execution_count": 0,
   "metadata": {
    "application/vnd.databricks.v1+cell": {
     "cellMetadata": {
      "byteLimit": 2048000,
      "implicitDf": true,
      "rowLimit": 10000
     },
     "inputWidgets": {},
     "nuid": "24e02286-05c6-4f19-94cd-ade5c4350416",
     "showTitle": false,
     "tableResultSettingsMap": {},
     "title": ""
    }
   },
   "outputs": [],
   "source": [
    "%sql\n",
    "SELECT *\n",
    "FROM order_details od\n",
    "JOIN orders o ON od.order_id = o.order_id\n"
   ]
  },
  {
   "cell_type": "markdown",
   "metadata": {
    "application/vnd.databricks.v1+cell": {
     "cellMetadata": {},
     "inputWidgets": {},
     "nuid": "5ff3a5da-1ffc-49f0-82ab-937f0edac1c0",
     "showTitle": false,
     "tableResultSettingsMap": {},
     "title": ""
    }
   },
   "source": [
    "CASE Statements (SQL IF/ELSE)"
   ]
  },
  {
   "cell_type": "code",
   "execution_count": 0,
   "metadata": {
    "application/vnd.databricks.v1+cell": {
     "cellMetadata": {
      "byteLimit": 2048000,
      "implicitDf": true,
      "rowLimit": 10000
     },
     "inputWidgets": {},
     "nuid": "971445d2-e591-4a66-bae9-7dabcdefcc68",
     "showTitle": false,
     "tableResultSettingsMap": {},
     "title": ""
    }
   },
   "outputs": [],
   "source": [
    "%sql\n",
    "SELECT \n",
    "  order_id,\n",
    "  total_amount,\n",
    "  CASE \n",
    "    WHEN total_amount < 1000 THEN 'SMALL'\n",
    "    WHEN total_amount BETWEEN 1000 AND 5000 THEN 'MEDIUM'\n",
    "    ELSE 'LARGE'\n",
    "  END AS order_size\n",
    "FROM orders;\n",
    "\n",
    "\n"
   ]
  },
  {
   "cell_type": "code",
   "execution_count": 0,
   "metadata": {
    "application/vnd.databricks.v1+cell": {
     "cellMetadata": {},
     "inputWidgets": {},
     "nuid": "4411a678-83d9-433f-aa57-23f240051c32",
     "showTitle": false,
     "tableResultSettingsMap": {},
     "title": ""
    }
   },
   "outputs": [],
   "source": [
    "%sql\n",
    "DESCRIBE orders;"
   ]
  },
  {
   "cell_type": "code",
   "execution_count": 0,
   "metadata": {
    "application/vnd.databricks.v1+cell": {
     "cellMetadata": {
      "byteLimit": 2048000,
      "implicitDf": true,
      "rowLimit": 10000
     },
     "inputWidgets": {},
     "nuid": "3157591b-a7e4-4035-adbd-734f9b952905",
     "showTitle": false,
     "tableResultSettingsMap": {},
     "title": ""
    }
   },
   "outputs": [],
   "source": [
    "%sql\n",
    "SELECT \n",
    "  CASE \n",
    "    WHEN total_amount < 1000 THEN 'SMALL'\n",
    "    WHEN total_amount BETWEEN 1000 AND 1500 THEN 'MEDIUM'\n",
    "    ELSE 'LARGE'\n",
    "  END AS order_size,\n",
    "  COUNT(*) AS num_orders\n",
    "FROM orders\n",
    "GROUP BY order_size;\n"
   ]
  },
  {
   "cell_type": "code",
   "execution_count": 0,
   "metadata": {
    "application/vnd.databricks.v1+cell": {
     "cellMetadata": {
      "byteLimit": 2048000,
      "implicitDf": true,
      "rowLimit": 10000
     },
     "inputWidgets": {},
     "nuid": "1e13e16d-dba7-4572-a933-9eced978d13e",
     "showTitle": false,
     "tableResultSettingsMap": {},
     "title": ""
    }
   },
   "outputs": [],
   "source": [
    "%sql\n",
    "-- Categorize each order as 'Small', 'Medium', 'Large'.\n",
    "\n",
    "WITH categorized_orders AS (\n",
    "    SELECT o.order_id, o.total_amount, \n",
    "          CASE\n",
    "              WHEN o.total_amount < 1000 THEN 'SMALL'\n",
    "              WHEN o.total_amount BETWEEN 1000 AND 1500 THEN 'MEDIUM'\n",
    "              ELSE 'LARGE'\n",
    "          END AS ORDER_SIZE \n",
    "    FROM orders o\n",
    ")\n",
    "SELECT * \n",
    "FROM categorized_orders \n",
    "WHERE ORDER_SIZE = 'LARGE'"
   ]
  },
  {
   "cell_type": "code",
   "execution_count": 0,
   "metadata": {
    "application/vnd.databricks.v1+cell": {
     "cellMetadata": {
      "byteLimit": 2048000,
      "rowLimit": 10000
     },
     "inputWidgets": {},
     "nuid": "5a2b3446-7309-47d1-baae-f3f93a2ed525",
     "showTitle": false,
     "tableResultSettingsMap": {},
     "title": ""
    }
   },
   "outputs": [],
   "source": [
    "describe customers"
   ]
  },
  {
   "cell_type": "code",
   "execution_count": 0,
   "metadata": {
    "application/vnd.databricks.v1+cell": {
     "cellMetadata": {
      "byteLimit": 2048000,
      "rowLimit": 10000
     },
     "inputWidgets": {},
     "nuid": "a316fc63-95d5-4f07-be92-af23b03b0de2",
     "showTitle": false,
     "tableResultSettingsMap": {},
     "title": ""
    }
   },
   "outputs": [],
   "source": [
    "\n",
    "select c.first_name,c.last_name,\n",
    "count(o.order_id) AS total_orders,\n",
    "CASE \n",
    "  WHEN COUNT(o.order_id) = 0 THEN 'No Orders'\n",
    "  when count(o.order_id) = 1 THEN 'NEW'\n",
    "  ELSE 'Returning'\n",
    "END AS customer_type\n",
    "from customers c\n",
    "left join orders O on c.customer_id = o.customer_id\n",
    "group by C.customer_id, C.first_name,c.last_name\n"
   ]
  },
  {
   "cell_type": "markdown",
   "metadata": {
    "application/vnd.databricks.v1+cell": {
     "cellMetadata": {},
     "inputWidgets": {},
     "nuid": "889d2640-fb38-4841-aed8-f6b68064c812",
     "showTitle": false,
     "tableResultSettingsMap": {},
     "title": ""
    }
   },
   "source": [
    "FUNCTIONS (STRIING + DATE)"
   ]
  },
  {
   "cell_type": "code",
   "execution_count": 0,
   "metadata": {
    "application/vnd.databricks.v1+cell": {
     "cellMetadata": {
      "byteLimit": 2048000,
      "rowLimit": 10000
     },
     "inputWidgets": {},
     "nuid": "b838ae5a-c233-4327-b247-2c88f111eff7",
     "showTitle": false,
     "tableResultSettingsMap": {},
     "title": ""
    }
   },
   "outputs": [],
   "source": [
    "select\n",
    "  upper(c.first_name) AS FIRST_NAME_UPPERCASE\n",
    "  --lower(c.first_name) AS FIRST_NAME_LOWERCASE\n",
    "  FROM customers c"
   ]
  },
  {
   "cell_type": "code",
   "execution_count": 0,
   "metadata": {
    "application/vnd.databricks.v1+cell": {
     "cellMetadata": {
      "byteLimit": 2048000,
      "rowLimit": 10000
     },
     "inputWidgets": {},
     "nuid": "a3cec2a7-89f9-4006-a2d5-5b2282c0bedc",
     "showTitle": false,
     "tableResultSettingsMap": {},
     "title": ""
    }
   },
   "outputs": [],
   "source": [
    "select upper(concat (c.first_name,c.last_name)) as FULL_NAME from customers c\n",
    "\n"
   ]
  },
  {
   "cell_type": "code",
   "execution_count": 0,
   "metadata": {
    "application/vnd.databricks.v1+cell": {
     "cellMetadata": {
      "byteLimit": 2048000,
      "rowLimit": 10000
     },
     "inputWidgets": {},
     "nuid": "93d69df0-0c09-409e-8b00-781efd7ebc43",
     "showTitle": false,
     "tableResultSettingsMap": {},
     "title": ""
    }
   },
   "outputs": [],
   "source": [
    "SELECT * FROM orders"
   ]
  },
  {
   "cell_type": "code",
   "execution_count": 0,
   "metadata": {
    "application/vnd.databricks.v1+cell": {
     "cellMetadata": {
      "byteLimit": 2048000,
      "rowLimit": 10000
     },
     "inputWidgets": {},
     "nuid": "226c4865-3a59-4fc7-82de-9a4a2b1a2a54",
     "showTitle": false,
     "tableResultSettingsMap": {},
     "title": ""
    }
   },
   "outputs": [],
   "source": [
    "SELECT \n",
    "  MONTH(o.order_date) AS order_month, \n",
    "  COUNT(o.order_id) AS total_orders \n",
    "FROM orders o \n",
    "GROUP BY 1\n",
    "ORDER BY 1;\n"
   ]
  },
  {
   "cell_type": "code",
   "execution_count": 0,
   "metadata": {
    "application/vnd.databricks.v1+cell": {
     "cellMetadata": {
      "byteLimit": 2048000,
      "rowLimit": 10000
     },
     "inputWidgets": {},
     "nuid": "60eb97ef-43b1-47fd-907b-8da6b65a3574",
     "showTitle": false,
     "tableResultSettingsMap": {},
     "title": ""
    }
   },
   "outputs": [],
   "source": [
    "SELECT \n",
    "  MONTH(o.order_date) AS order_month,\n",
    "  MONTHNAME(o.order_date) AS month_name,\n",
    "  COUNT(o.order_id) AS total_orders\n",
    "FROM orders o \n",
    "GROUP BY 1, 2\n",
    "ORDER BY 1;\n"
   ]
  },
  {
   "cell_type": "code",
   "execution_count": 0,
   "metadata": {
    "application/vnd.databricks.v1+cell": {
     "cellMetadata": {
      "byteLimit": 2048000,
      "rowLimit": 10000
     },
     "inputWidgets": {},
     "nuid": "b25bbd83-7df8-42fc-b92f-ce807a3153c6",
     "showTitle": false,
     "tableResultSettingsMap": {},
     "title": ""
    }
   },
   "outputs": [],
   "source": [
    "WITH customer_spend AS (\n",
    "    SELECT \n",
    "        c.customer_id, \n",
    "        CONCAT(c.first_name, ' ', c.last_name) AS full_name,\n",
    "        SUM(od.quantity * od.price_each) AS total_spent\n",
    "    FROM customers c\n",
    "    INNER JOIN orders o ON c.customer_id = o.customer_id\n",
    "    INNER JOIN order_details od ON o.order_id = od.order_id\n",
    "    GROUP BY c.customer_id, c.first_name, c.last_name\n",
    ")\n",
    "\n",
    "SELECT \n",
    "    full_name, \n",
    "    total_spent,\n",
    "    CASE\n",
    "        WHEN total_spent < 10000 THEN 'Bronze'\n",
    "        WHEN total_spent BETWEEN 10000 AND 20000 THEN 'Silver'\n",
    "        ELSE 'Gold'\n",
    "    END AS customer_tier\n",
    "FROM customer_spend;\n"
   ]
  },
  {
   "cell_type": "code",
   "execution_count": 0,
   "metadata": {
    "application/vnd.databricks.v1+cell": {
     "cellMetadata": {
      "byteLimit": 2048000,
      "rowLimit": 10000
     },
     "inputWidgets": {},
     "nuid": "b36fbda9-f43e-49ae-9096-91c3782ed14b",
     "showTitle": false,
     "tableResultSettingsMap": {},
     "title": ""
    }
   },
   "outputs": [],
   "source": [
    "--Task:\n",
    "--1. Write a JOIN query to show customer name,product and region\n",
    "\n",
    "create table sales_data_sample (\n",
    "  sale_id int,\n",
    "  customer_name string,\n",
    "  product string,\n",
    "  amount int,\n",
    "  sale_date timestamp,\n",
    "  region string\n",
    ")\n",
    "\n",
    "create table customers_sample (\n",
    "  customer_id varchar(50),\n",
    "  name varchar(50),\n",
    "  gender varchar(10),\n",
    "  city varchar(50)\n",
    ")\n",
    "\n",
    "\n"
   ]
  },
  {
   "cell_type": "code",
   "execution_count": 0,
   "metadata": {
    "application/vnd.databricks.v1+cell": {
     "cellMetadata": {
      "byteLimit": 2048000,
      "rowLimit": 10000
     },
     "inputWidgets": {},
     "nuid": "0aaf575e-2895-455f-b0ae-37b79bb903e0",
     "showTitle": false,
     "tableResultSettingsMap": {},
     "title": ""
    }
   },
   "outputs": [],
   "source": [
    "show tables"
   ]
  },
  {
   "cell_type": "code",
   "execution_count": 0,
   "metadata": {
    "application/vnd.databricks.v1+cell": {
     "cellMetadata": {},
     "inputWidgets": {},
     "nuid": "753b57d8-fce4-4314-a2b5-d88d20f736c2",
     "showTitle": false,
     "tableResultSettingsMap": {},
     "title": ""
    }
   },
   "outputs": [],
   "source": [
    "insert into sales_data_sample VALUES \n",
    "(101, 'C001', 'Shoes', 2999, '2023-10-01', 'North'),\n",
    "(102, 'C002', 'T-Shirt', 999, '2023-10-01', 'West'),\n",
    "(103, 'C001', 'Watch', 5999, '2023-10-02', 'North'),\n",
    "(104, 'C003', 'Bag', 1999, '2023-10-03', 'South');\n",
    "\n"
   ]
  },
  {
   "cell_type": "code",
   "execution_count": 0,
   "metadata": {
    "application/vnd.databricks.v1+cell": {
     "cellMetadata": {
      "byteLimit": 2048000,
      "rowLimit": 10000
     },
     "inputWidgets": {},
     "nuid": "94065e58-8c3b-4053-ba7d-9370d040cd08",
     "showTitle": false,
     "tableResultSettingsMap": {},
     "title": ""
    }
   },
   "outputs": [],
   "source": [
    "CREATE TABLE customers_sample (\n",
    "    customer_id VARCHAR(10) PRIMARY KEY,\n",
    "    name VARCHAR(100),\n",
    "    gender CHAR(1),\n",
    "    city VARCHAR(100)\n",
    ");\n",
    "\n",
    "INSERT INTO customers_sample VALUES \n",
    "('C001', 'Ravi', 'M', 'Mumbai'),\n",
    "('C002', 'Priya', 'F', 'Delhi'),\n",
    "('C003', 'Arjun', 'M', 'Bangalore');\n",
    "\n"
   ]
  },
  {
   "cell_type": "code",
   "execution_count": 0,
   "metadata": {
    "application/vnd.databricks.v1+cell": {
     "cellMetadata": {
      "byteLimit": 2048000,
      "rowLimit": 10000
     },
     "inputWidgets": {},
     "nuid": "551e8631-138d-4608-8674-751d04c108ce",
     "showTitle": false,
     "tableResultSettingsMap": {},
     "title": ""
    }
   },
   "outputs": [],
   "source": [
    "\n",
    "insert into sales_data_sample VALUES \n",
    "(101, 'C001', 'Shoes', 2999, '2023-10-01', 'North'),\n",
    "(102, 'C002', 'T-Shirt', 999, '2023-10-01', 'West'),\n",
    "(103, 'C001', 'Watch', 5999, '2023-10-02', 'North'),\n",
    "(104, 'C003', 'Bag', 1999, '2023-10-03', 'South');\n",
    "\n"
   ]
  },
  {
   "cell_type": "code",
   "execution_count": 0,
   "metadata": {
    "application/vnd.databricks.v1+cell": {
     "cellMetadata": {
      "byteLimit": 2048000,
      "rowLimit": 10000
     },
     "inputWidgets": {},
     "nuid": "c4f611a3-1da3-4b73-ba90-52772d1a9fcb",
     "showTitle": false,
     "tableResultSettingsMap": {},
     "title": ""
    }
   },
   "outputs": [],
   "source": [
    "describe customers_sample"
   ]
  },
  {
   "cell_type": "code",
   "execution_count": 0,
   "metadata": {
    "application/vnd.databricks.v1+cell": {
     "cellMetadata": {
      "byteLimit": 2048000,
      "rowLimit": 10000
     },
     "inputWidgets": {},
     "nuid": "e14246e3-0580-41ef-9af5-fe9b4e96ee0d",
     "showTitle": false,
     "tableResultSettingsMap": {},
     "title": ""
    }
   },
   "outputs": [],
   "source": [
    "CREATE TABLE sales_data_sample (\n",
    "  sale_id INT,\n",
    "  customer_id VARCHAR(10),     \n",
    "  product STRING,\n",
    "  amount INT,\n",
    "  sale_date TIMESTAMP,\n",
    "  region STRING\n",
    ");\n",
    "INSERT INTO sales_data_sample VALUES \n",
    "(101, 'C001', 'Shoes', 2999, '2023-10-01', 'North'),\n",
    "(102, 'C002', 'T-Shirt', 999, '2023-10-01', 'West'),\n",
    "(103, 'C001', 'Watch', 5999, '2023-10-02', 'North'),\n",
    "(104, 'C003', 'Bag', 1999, '2023-10-03', 'South');\n",
    "\n"
   ]
  },
  {
   "cell_type": "code",
   "execution_count": 0,
   "metadata": {
    "application/vnd.databricks.v1+cell": {
     "cellMetadata": {
      "byteLimit": 2048000,
      "rowLimit": 10000
     },
     "inputWidgets": {},
     "nuid": "f7eb8bf9-3217-46c6-a824-bcadb1f714e8",
     "showTitle": false,
     "tableResultSettingsMap": {},
     "title": ""
    }
   },
   "outputs": [],
   "source": [
    "--Task:\n",
    "--1. Write a JOIN query to show customer name,product and region\n",
    "\n",
    "select \n",
    "cs.name as customer_name,\n",
    "sds.product,\n",
    "sds.region\n",
    "from sales_data_sample sds\n",
    "inner join customers_sample cs\n",
    "ON sds.customer_id = cs.customer_id"
   ]
  },
  {
   "cell_type": "code",
   "execution_count": 0,
   "metadata": {
    "application/vnd.databricks.v1+cell": {
     "cellMetadata": {
      "byteLimit": 2048000,
      "rowLimit": 10000
     },
     "inputWidgets": {},
     "nuid": "dbfc9e5e-7869-43cb-b045-d3014e790ed5",
     "showTitle": false,
     "tableResultSettingsMap": {},
     "title": ""
    }
   },
   "outputs": [],
   "source": [
    "--Task:\n",
    "--2. Count how many products each customer has purchased\n",
    "\n",
    "select  cs.name,count(*) as total_products\n",
    "from sales_data_sample sds\n",
    "inner join customers_sample cs\n",
    "ON sds.customer_id = cs.customer_id\n",
    "group by cs.customer_id,cs.name\n",
    "\n",
    "\n"
   ]
  },
  {
   "cell_type": "code",
   "execution_count": 0,
   "metadata": {
    "application/vnd.databricks.v1+cell": {
     "cellMetadata": {
      "byteLimit": 2048000,
      "rowLimit": 10000
     },
     "inputWidgets": {},
     "nuid": "237ec43e-c0b9-45d7-b832-9a35fdb8cc46",
     "showTitle": false,
     "tableResultSettingsMap": {},
     "title": ""
    }
   },
   "outputs": [],
   "source": [
    "--Task:\n",
    "--3. Get all female customers who made a purchase greater than 1000.\n",
    "\n",
    "\n",
    "select \n",
    "* from customers_sample\n",
    "where gender = 'F'\n",
    "and customer_id\n",
    "in \n",
    "(select customer_id \n",
    "  from sales_data_sample\n",
    "  where amount > 500)\n",
    "  "
   ]
  },
  {
   "cell_type": "code",
   "execution_count": 0,
   "metadata": {
    "application/vnd.databricks.v1+cell": {
     "cellMetadata": {
      "byteLimit": 2048000,
      "rowLimit": 10000
     },
     "inputWidgets": {},
     "nuid": "5a300ccd-73e3-468b-8da8-97ca2fe2fa50",
     "showTitle": false,
     "tableResultSettingsMap": {},
     "title": ""
    }
   },
   "outputs": [],
   "source": [
    "--Task:\n",
    "--Identify cities with the highest total purchase amount.\n",
    "\n",
    "select cs.city as cities , sds.amount as highest_total_purchase_amount\n",
    "from customers_sample cs \n",
    "inner join sales_data_sample sds \n",
    "on cs.customer_id = sds.customer_id\n",
    "group by cs.city, sds.amount\n",
    "order by sds.amount desc"
   ]
  }
 ],
 "metadata": {
  "application/vnd.databricks.v1+notebook": {
   "computePreferences": null,
   "dashboards": [],
   "environmentMetadata": {
    "base_environment": "",
    "environment_version": "2"
   },
   "inputWidgetPreferences": null,
   "language": "sql",
   "notebookMetadata": {
    "mostRecentlyExecutedCommandWithImplicitDF": {
     "commandId": 7105986470184465,
     "dataframes": [
      "_sqldf"
     ]
    },
    "pythonIndentUnit": 4
   },
   "notebookName": "Class 4",
   "widgets": {}
  },
  "language_info": {
   "name": "sql"
  }
 },
 "nbformat": 4,
 "nbformat_minor": 0
}
